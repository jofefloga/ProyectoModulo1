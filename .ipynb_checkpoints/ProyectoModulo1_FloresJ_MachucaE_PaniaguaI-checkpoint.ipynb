{
 "cells": [
  {
   "cell_type": "markdown",
   "metadata": {},
   "source": [
    "<img style=\"float: right; margin: 0px 0px 15px 15px;\" src=\"https://www.researchgate.net/profile/Pablo_Beltran-Pellicer/publication/308898867/figure/fig17/AS:414090326495240@1475738235481/Figura-636-Moneyball-Miller-2011-estadistica-del-beisbol.png\" width=\"300px\" height=\"100px\" />\n",
    "\n",
    "\n",
    "## Proyecto: Resultados a partidos LigaMX\n",
    "#### <font color= #2E9AFE>  `17 de marzo del 2020` </font>\n",
    "#### <font color= #2E9AFE>  `Profesor: Oscar David Jaramillo`</font>\n",
    "> **Integrante1:** José Fernando Flores García \\\n",
    "**Integrante2:** Edgar Machuca Buenrostro \\\n",
    "**Integrante3:** Iván Paniagua García de León"
   ]
  },
  {
   "cell_type": "markdown",
   "metadata": {},
   "source": [
    "___\n",
    "## 1. Entregable.\n",
    "\n",
    "### 1.2 Objetivos.\n",
    "> - Emplear las herramientas vistas en clase.\n",
    "> - Utilizar la programación vectorizada y funcional.\n",
    "\n",
    "> #### 1.2.1 Objetivo general.\n",
    ">  - Crear estimaciones sobre los posibles resultados a partidos de la LigaMX\n",
    "\n",
    "> #### 1.2.2 Objetivos específicos\n",
    ">  - Crear simulaciones de los escenarios neesarios.\n",
    ">  - Generar distribuciones adecuadas para los datos obtenidos.\n",
    ">  - Emplear las funciones creadas a lo largo del curso para optimizar los procesos.\n",
    ">  - Continuar con el uso de la programación funcional y vectorizada.\n",
    ">  - Ser capaces de estimar resultados de partidos a través de diversos procesos.\n",
    "\n",
    "\n",
    "### 1.3 Definición del problema.\n",
    "> **Escribir aquí**\n",
    "\n",
    "> Se debe describir en una cuartilla máximo cuál es el escenario de negocio que se va a modelar, identificar cuáles son los supuestos que defines en el negocio y cuáles son los \"nodos\" o \"escenarios\" que identificas necesarios simular y porqué. Debes elaborar un diagrama de inicio a fin, identificando los \"nodos\" o \"escenarios\" a simular.\n",
    "\n",
    "\n",
    "### 1.4 Nodos y variables que se decidieron simular y porqué\n",
    "> A partir de datos obtenidos previamente, se decidió crear la distribución adecuada. Después, se tratará de separar los datos en partidos en casa, visitante, así como contra la posición del equipo contra el que se juega en la tabla, esto con el fin de crear variables con mayor independencia entre sí. Se simularán estos escenarios para estimar resultados de partidos.\n",
    "\n",
    "### 1.5 Definición de hipótesis y supuestos.\n",
    "> Para facilitar el modelado del proceso, se crean supuestos considerados verdaderos a lo largo del proceso. Por lo tanto, se decidió utilizar los siguientes supuestos:\n",
    "1. Los datos visitante y local son independientes.\n",
    "2. El equipo siempre es el mismo. Es decir, se consideran los datos del equipo como uno y no de los jugadores como individuos.\n",
    "3. Nigún cambio en la formación interna tanto del club como institución como del equipo y cuerpo técnico mismo hace que se considere como un \"equipo diferente\". Es decir, el \"nombre\" del club es la representación de los datos.\n",
    "\n",
    "> Además, las hipótesis consideradas como necesarias para el modelo son:\n",
    "1. El jugar contra un equipo en las primeras posiciones de la tabla genera distinta distribución que contra uno en las últimas posiciones.\n",
    "2. a\n",
    "\n",
    "### 1.6 Obtención de bases de datos\n",
    "> Las bases de datos de los partidos se consiguen normalmente a través de compañías especializadas en datos deportivos para distintos usos. La recomendción que nos hicieron fue Wyscout [https://wyscout.com/]. Al entrar pudimos observar que tiene los APIs necesarios para nostros, sobre todo considerando que nuestro enfoque es la liga doméstica, es decir la Liga MX. Entonces nuestra primera opción es esa.\n",
    "\n",
    "> En cuanto a la institución que vamos a simular es bastante sencillo, es la primera división del futbol profesional en México, es decir, la Liga MX (antes Primera División). Esta institución fundada en 1922 está a punto de cumplir cien años y está afiliada a la máxima autoridad del mundo del futbol, la FIFA.\n",
    "\n",
    "> Wyscout es una empresa italiana que inició operaciones en 2004 para satisfacer las necesidades de datos que las televisoras de ese entonces reclamaban. Conforme pasó el tiempo y fue avanzando la tecnología fueron incorporando más sectores de clientes, como entrenadores, arbitros, scouts, equipo y selecciones completas e incluso los mismos jugadores.\n",
    "\n",
    "> Un ejemplo de las variables que necesitamos es la cantidad de tiros al arco en determinado tiempo vs la cantidad de goles anotados en ese mismo periodo. Esto con el fin de ir construyendo nuestra simulación de goles esperados por equipo.\n",
    "\n",
    "\n",
    "> El tercer paso del proyecto es indicar de dónde se obtendrán las bases de datos, que indican como se han comportado las variables que identificaste en tu proceso de negocio que vas a simular. En esta investigación debes haber encontrado información propia de la empresa, organización o institución que vas a simular y otra parte de la información debe provenir de investigación que realices en fuentes de información públicas o privadas como las que tiene SECOBI, ahí normalmente y dependiendo del problema elegido, se investigan variables económicas, como tasas de interés, inflación, tipo de cambio, etc., de varios años, por poner un ejemplo.\n",
    "\n",
    "### 1.7 Visualización de resultados de simulación.\n",
    "> NA\n",
    "\n",
    "### 1.8 Conclusiones.\n",
    "> NA\n",
    "\n",
    "### 1.7 Referencias.\n",
    "> Citar (en formato APA) la bibliografía utilizada.."
   ]
  },
  {
   "cell_type": "markdown",
   "metadata": {},
   "source": [
    "<script>\n",
    "  $(document).ready(function(){\n",
    "    $('div.prompt').hide();\n",
    "    $('div.back-to-top').hide();\n",
    "    $('nav#menubar').hide();\n",
    "    $('.breadcrumb').hide();\n",
    "    $('.hidden-print').hide();\n",
    "  });\n",
    "</script>\n",
    "\n",
    "<footer id=\"attribution\" style=\"float:right; color:#808080; background:#fff;\">\n",
    "Created with Jupyter by Fernando Flores.\n",
    "</footer>"
   ]
  }
 ],
 "metadata": {
  "kernelspec": {
   "display_name": "Python 3",
   "language": "python",
   "name": "python3"
  },
  "language_info": {
   "codemirror_mode": {
    "name": "ipython",
    "version": 3
   },
   "file_extension": ".py",
   "mimetype": "text/x-python",
   "name": "python",
   "nbconvert_exporter": "python",
   "pygments_lexer": "ipython3",
   "version": "3.6.5"
  }
 },
 "nbformat": 4,
 "nbformat_minor": 2
}
